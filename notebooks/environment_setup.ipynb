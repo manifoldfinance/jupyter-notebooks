{
 "cells": [
  {
   "cell_type": "markdown",
   "id": "804fc47a",
   "metadata": {},
   "source": [
    "# Environment Setup"
   ]
  },
  {
   "cell_type": "markdown",
   "id": "9cba3227",
   "metadata": {},
   "source": [
    "## Check Python version\n",
    "\n",
    "Ideally version 3.7, 3.8, or 3.9."
   ]
  },
  {
   "cell_type": "code",
   "execution_count": 7,
   "id": "5c5e467f",
   "metadata": {},
   "outputs": [
    {
     "name": "stdout",
     "output_type": "stream",
     "text": [
      "Python 3.8.5\r\n"
     ]
    }
   ],
   "source": [
    "!python --version"
   ]
  },
  {
   "cell_type": "markdown",
   "id": "0af791bf",
   "metadata": {},
   "source": [
    "## Install dependencies"
   ]
  },
  {
   "cell_type": "code",
   "execution_count": null,
   "id": "7b4f3cb8",
   "metadata": {},
   "outputs": [],
   "source": [
    "%pip3 install -r requirements.txt"
   ]
  },
  {
   "cell_type": "markdown",
   "id": "2446354f",
   "metadata": {},
   "source": [
    "## Check package version\n",
    "\n",
    "Both of the below operations should show the same package version."
   ]
  },
  {
   "cell_type": "code",
   "execution_count": null,
   "id": "8d8d909c",
   "metadata": {},
   "outputs": [],
   "source": [
    "%pip3 show radcad"
   ]
  },
  {
   "cell_type": "code",
   "execution_count": 10,
   "id": "b50fbcf6",
   "metadata": {},
   "outputs": [],
   "source": [
    "import radcad"
   ]
  },
  {
   "cell_type": "code",
   "execution_count": 11,
   "id": "3f1d9663",
   "metadata": {},
   "outputs": [
    {
     "data": {
      "text/plain": [
       "'0.8.4'"
      ]
     },
     "execution_count": 11,
     "metadata": {},
     "output_type": "execute_result"
    }
   ],
   "source": [
    "radcad.__version__"
   ]
  },
  {
   "cell_type": "markdown",
   "id": "458ab828",
   "metadata": {},
   "source": [
    "## Check Plotly output\n",
    "\n",
    "Should render a line chart."
   ]
  },
  {
   "cell_type": "code",
   "execution_count": null,
   "id": "14b2633e",
   "metadata": {},
   "outputs": [],
   "source": [
    "import plotly.express as px\n",
    "\n",
    "px.line(x=[0, 1, 2], y=[0, 1, 2])"
   ]
  },
  {
   "cell_type": "code",
   "execution_count": null,
   "id": "86f51520",
   "metadata": {},
   "outputs": [],
   "source": []
  }
 ],
 "metadata": {
  "kernelspec": {
   "display_name": "Python (CADLabs Ethereum Economic Model)",
   "language": "python",
   "name": "python-cadlabs-eth-model"
  },
  "language_info": {
   "codemirror_mode": {
    "name": "ipython",
    "version": 3
   },
   "file_extension": ".py",
   "mimetype": "text/x-python",
   "name": "python",
   "nbconvert_exporter": "python",
   "pygments_lexer": "ipython3",
   "version": "3.8.2"
  }
 },
 "nbformat": 4,
 "nbformat_minor": 5
}
