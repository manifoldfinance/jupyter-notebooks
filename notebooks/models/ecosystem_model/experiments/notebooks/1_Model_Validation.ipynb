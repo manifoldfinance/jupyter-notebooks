{
 "cells": [
  {
   "cell_type": "markdown",
   "metadata": {},
   "source": [
    "# Experiment 1: Model Validation\n",
    "\n",
    "### Description\n",
    "\n",
    "Plot key system variables and validate that the model is working as expected.\n",
    "\n",
    "### Assumptions\n",
    "\n",
    "### Experiment Setup\n",
    "\n",
    "There are several experiment-notebook-level preparatory setup operations:\n",
    "\n",
    "* Import relevant dependencies\n",
    "* Import relevant experiment templates\n",
    "* Create copies of experiments\n",
    "* Configure and customize experiments "
   ]
  },
  {
   "cell_type": "code",
   "execution_count": null,
   "metadata": {},
   "outputs": [],
   "source": [
    "# Import the setup module:\n",
    "# * sets up the Python path\n",
    "# * runs shared notebook-configuration methods, such as loading IPython modules\n",
    "import setup\n",
    "\n",
    "# External dependencies\n",
    "import copy\n",
    "import logging\n",
    "import numpy as np\n",
    "import pandas as pd\n",
    "import plotly.express as px\n",
    "import plotly.graph_objects as go\n",
    "from plotly.subplots import make_subplots\n",
    "from pprint import pprint\n",
    "\n",
    "import visualizations\n",
    "from experiments.run import run\n",
    "from experiments.utils import display_code"
   ]
  },
  {
   "cell_type": "code",
   "execution_count": null,
   "metadata": {},
   "outputs": [],
   "source": [
    "# Enable/disable logging\n",
    "logger = logging.getLogger()\n",
    "logger.disabled = True"
   ]
  },
  {
   "cell_type": "code",
   "execution_count": null,
   "metadata": {},
   "outputs": [],
   "source": [
    "# Import experiment templates\n",
    "import experiments.templates.time_domain_analysis as time_domain_analysis"
   ]
  },
  {
   "cell_type": "code",
   "execution_count": null,
   "metadata": {},
   "outputs": [],
   "source": [
    "# Inspect experiment template:\n",
    "#display_code(time_domain_analysis)"
   ]
  },
  {
   "cell_type": "code",
   "execution_count": null,
   "metadata": {},
   "outputs": [],
   "source": [
    "# Create a new copy of the relevant simulation for each analysis\n",
    "simulation_1 = copy.deepcopy(time_domain_analysis.experiment.simulations[0])"
   ]
  },
  {
   "cell_type": "markdown",
   "metadata": {},
   "source": [
    "# Adjust experiment"
   ]
  },
  {
   "cell_type": "markdown",
   "metadata": {},
   "source": [
    "### Override Initial State"
   ]
  },
  {
   "cell_type": "code",
   "execution_count": null,
   "metadata": {
    "scrolled": true
   },
   "outputs": [],
   "source": [
    "# Check initial state:\n",
    "pprint(simulation_1.model.initial_state)"
   ]
  },
  {
   "cell_type": "code",
   "execution_count": null,
   "metadata": {},
   "outputs": [],
   "source": [
    "simulation_1.model.initial_state.update({\n",
    "    \"hosts\": 1, \n",
    "    #\"clients\": 1,\n",
    "    #\"avg_price\": 4\n",
    "})"
   ]
  },
  {
   "cell_type": "markdown",
   "metadata": {},
   "source": [
    "### Override parameters"
   ]
  },
  {
   "cell_type": "code",
   "execution_count": null,
   "metadata": {},
   "outputs": [],
   "source": [
    "pprint(simulation_1.model.params)"
   ]
  },
  {
   "cell_type": "code",
   "execution_count": null,
   "metadata": {},
   "outputs": [],
   "source": [
    "simulation_1.model.params.update({\n",
    "   # \"host_setup_delay\": [90],\n",
    "})"
   ]
  },
  {
   "cell_type": "code",
   "execution_count": null,
   "metadata": {
    "scrolled": true
   },
   "outputs": [],
   "source": [
    "# Execute the simulation (radCAD):\n",
    "\n",
    "df_1, _exceptions = run(simulation_1)"
   ]
  },
  {
   "cell_type": "code",
   "execution_count": null,
   "metadata": {
    "scrolled": true
   },
   "outputs": [],
   "source": [
    "# View DataFrame:\n",
    "# df_1.head(100)"
   ]
  },
  {
   "cell_type": "markdown",
   "metadata": {},
   "source": [
    "# Anaysis 1: User Adoption\n",
    "\n",
    "Plot user adoption over the time horizon.\n",
    "\n",
    "The rate of user adoption at any given timestep is a function of: \n",
    "- **word-of-mouth** (the more clients there are, the more likely )\n",
    "- **base onboarding rate** (set in system parameters as 'onboarding_coeff')\n",
    "- **price attractiveness** for the given agent (i.e. lower price = more attractive to clients but less attractive for hosts) \n",
    "- **registration delay** (i.e the average time clients take to register)"
   ]
  },
  {
   "cell_type": "code",
   "execution_count": null,
   "metadata": {
    "scrolled": true
   },
   "outputs": [],
   "source": [
    "# fig_df = df_1.query('variable_name == 2')\n",
    "\n",
    "fig = px.line(\n",
    "    df_1,\n",
    "    x='timestep',\n",
    "    y=['hosts', 'clients', 'potential_users'],\n",
    "    height=300\n",
    ")\n",
    "\n",
    "fig.update_layout(\n",
    "    title=\"User Adoption\",\n",
    "    xaxis_title=\"Days\",\n",
    "    yaxis_title=\"Persons\",\n",
    "    legend_title=\"User Type\")\n",
    "\n",
    "fig.show()"
   ]
  },
  {
   "cell_type": "markdown",
   "metadata": {},
   "source": [
    "# Anaysis 2: Network Allocation\n",
    "\n",
    "Plot the actual bandwidth allocation for the network over time.\n",
    "\n",
    "Notes: \n",
    "- Since the network assumes clients can initiate temporary connections, actual network allocation is dependent on the current price attractiveness to existing clients, v.s. the "
   ]
  },
  {
   "cell_type": "code",
   "execution_count": null,
   "metadata": {},
   "outputs": [],
   "source": [
    "fig = px.line(\n",
    "    df_1,\n",
    "    x='timestep',\n",
    "    y=['network_allocation'],\n",
    "    height=350\n",
    ")\n",
    "\n",
    "fig.update_layout(\n",
    "    title=\"Network Allocation\",\n",
    "    xaxis_title=\"Days\",\n",
    "    yaxis_title=\"Mbps\",\n",
    "    legend_title=\"Allocation\")\n",
    "\n",
    "fig.show()"
   ]
  },
  {
   "cell_type": "code",
   "execution_count": null,
   "metadata": {},
   "outputs": [],
   "source": [
    "# Use Pandas to query results \n",
    "\n",
    "#E.g. maximum network allocation\n",
    "df_1.groupby('subset')['network_allocation'].max()"
   ]
  },
  {
   "cell_type": "code",
   "execution_count": null,
   "metadata": {},
   "outputs": [],
   "source": [
    "fig = px.line(\n",
    "    df_1,\n",
    "    x='timestep',\n",
    "    y=['avg_price'],\n",
    "    height=300\n",
    ")\n",
    "\n",
    "fig.update_layout(\n",
    "    title=\"AVG Host Price over Time\",\n",
    "    xaxis_title=\"Days\",\n",
    "    yaxis_title=\"ZAR/Mbps/Day\",\n",
    "    legend_title=\"Price\")\n",
    "\n",
    "fig.show()\n"
   ]
  },
  {
   "cell_type": "code",
   "execution_count": null,
   "metadata": {},
   "outputs": [],
   "source": [
    "# Plot 3D Surface:\n",
    "\n",
    "# visualizations.plot_surface(df_1)"
   ]
  },
  {
   "cell_type": "code",
   "execution_count": null,
   "metadata": {},
   "outputs": [],
   "source": [
    "fig = px.line(\n",
    "    df_1,\n",
    "    x='timestep',\n",
    "    y=['network_penetration'],\n",
    "    height=300\n",
    ")\n",
    "\n",
    "fig.update_layout(\n",
    "    title=\"Network Penetration\",\n",
    "    xaxis_title=\"Days\",\n",
    "    yaxis_title=\"%\",\n",
    "    legend_title=\"%\")\n",
    "\n",
    "fig.show()"
   ]
  },
  {
   "cell_type": "markdown",
   "metadata": {},
   "source": [
    "# Anaysis: Yields\n",
    "\n",
    "Host and platform yeilds"
   ]
  },
  {
   "cell_type": "code",
   "execution_count": null,
   "metadata": {},
   "outputs": [],
   "source": [
    "fig = px.line(\n",
    "    df_1,\n",
    "    x='timestep',\n",
    "    y=['hosts_daily_revenue', 'hosts_daily_profit', 'platform_daily_revenue'],\n",
    "    height=400\n",
    ")\n",
    "\n",
    "fig.update_layout(\n",
    "    title=\"Daily Revenue & Profit Yields\",\n",
    "    xaxis_title=\"Days\",\n",
    "    yaxis_title=\"ZAR/Day\",\n",
    "    legend_title=\"Agents\"\n",
    ")\n",
    "\n",
    "newnames = {'hosts_daily_revenue':'Hosts (revenue)', 'hosts_daily_profit': 'Hosts (profit)', 'platform_daily_revenue': 'Platform (revenue)'}\n",
    "fig.for_each_trace(lambda t: t.update(name = newnames[t.name],\n",
    "                                      legendgroup = newnames[t.name],\n",
    "                                      hovertemplate = t.hovertemplate.replace(t.name, newnames[t.name])\n",
    "                                     )\n",
    "                  )\n",
    "        \n",
    "fig.show()"
   ]
  },
  {
   "cell_type": "markdown",
   "metadata": {},
   "source": [
    "# Analysis: Hosts & Platform Yields"
   ]
  },
  {
   "cell_type": "code",
   "execution_count": null,
   "metadata": {},
   "outputs": [],
   "source": [
    "# Simulation metrics\n",
    "period = df_1['timestep'].max()\n",
    "service_fee = simulation_1.model.params[\"service_fee\"][0]\n",
    "\n",
    "# Pandas calculations:\n",
    "host_cumulative_revenue = int(df_1['hosts_daily_revenue'].sum())\n",
    "host_cumulative_profit = int(df_1['hosts_daily_profit'].sum())\n",
    "platform_cumulative_revenue = int(df_1['platform_daily_revenue'].sum())\n",
    "\n",
    "# Output formatting:\n",
    "service_fee_formatted = service_fee * 100\n",
    "revenue_formatted = \"R{:,.0f}\".format(host_cumulative_revenue)\n",
    "profit_formatted = \"R{:,.0f}\".format(host_cumulative_profit)\n",
    "platform_revenue_formatted = \"R{:,.0f}\".format(platform_cumulative_revenue)\n",
    "\n",
    "# Display output:\n",
    "print(\"Host cumulative revenue (\", period , \"days ):\")\n",
    "print(revenue_formatted, \"\\n\")\n",
    "\n",
    "print(\"Host cumulative profit (\", period , \"days ):\")\n",
    "print(profit_formatted, \"\\n\")\n",
    "\n",
    "print(\"Platform cumulative revenue (\", service_fee_formatted, \"% fee) (\", period , \"days ):\")\n",
    "print(platform_revenue_formatted, \"\\n\")"
   ]
  },
  {
   "cell_type": "code",
   "execution_count": null,
   "metadata": {},
   "outputs": [],
   "source": []
  }
 ],
 "metadata": {
  "kernelspec": {
   "display_name": "Python 3",
   "language": "python",
   "name": "python3"
  },
  "language_info": {
   "codemirror_mode": {
    "name": "ipython",
    "version": 3
   },
   "file_extension": ".py",
   "mimetype": "text/x-python",
   "name": "python",
   "nbconvert_exporter": "python",
   "pygments_lexer": "ipython3",
   "version": "3.8.5"
  }
 },
 "nbformat": 4,
 "nbformat_minor": 2
}
