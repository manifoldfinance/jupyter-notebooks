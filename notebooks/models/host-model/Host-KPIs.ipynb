{
 "cells": [
  {
   "cell_type": "markdown",
   "id": "72a202b9",
   "metadata": {},
   "source": [
    "# Network KPI Systems Model for Mempool as a Service/MEV\n",
    "\n",
    "### Overview\n",
    "\n",
    "Based on the host's individual setup the model simulates relevent network and financial forecasts.\n",
    "\n",
    "### Assumptions\n",
    " \n",
    "- The model assumes client acquisition for the individual host follows an s-curve growth rate\n",
    "- rewards are non discreative (see manifold documentation, eth2.0/rewards.md)\n",
    "\n",
    "### Constraints / Scope\n",
    "\n",
    "\n",
    "### Model extension\n",
    "\n",
    "- Relay nodes\n",
    "- Add stochastic s-curve to client acquisition\n",
    "- Gradient Descent to optimize the model? lol."
   ]
  },
  {
   "cell_type": "markdown",
   "id": "63f42ce7",
   "metadata": {},
   "source": [
    "# 0. Dependencies"
   ]
  },
  {
   "cell_type": "code",
   "execution_count": null,
   "id": "fb238bee",
   "metadata": {},
   "outputs": [],
   "source": [
    "# Standard libraries: https://docs.python.org/3/library/\n",
    "import math\n",
    "from numpy import random\n",
    "import numpy as np\n",
    "\n",
    "# Analysis and plotting modules\n",
    "import pandas as pd\n",
    "import matplotlib.pyplot as plt\n",
    "import plotly.express as px\n",
    "from random import normalvariate\n",
    "\n",
    "# cadCAD configuration modules\n",
    "from cadCAD.configuration.utils import config_sim\n",
    "from cadCAD.configuration import Experiment\n",
    "\n",
    "# cadCAD simulation engine modules\n",
    "from cadCAD.engine import ExecutionContext, Executor\n"
   ]
  },
  {
   "cell_type": "markdown",
   "id": "a5e96be3",
   "metadata": {},
   "source": [
    "# 1.Configure the Global  State Variables & Network System Parameters"
   ]
  },
  {
   "cell_type": "code",
   "execution_count": null,
   "id": "6f66d803",
   "metadata": {},
   "outputs": [],
   "source": [
    "# Time horizon (Days)\n",
    "timeHorizon = 365\n",
    "\n",
    "\n",
    "# System states (python dictionaries):\n",
    "initial_state = {\n",
    "    'clients': int(0),\n",
    "    'host_revenue': int(0),\n",
    "    'demand': int(0),\n",
    "    'host_revenue': int(0),\n",
    "    'host_profit': int(0),\n",
    "    'host_expenses': int(0),\n",
    "    'cumulative_profit': int(0)\n",
    "\n",
    "}\n",
    "\n",
    "\n",
    "# System parameters (python lists):\n",
    "\n",
    "system_params = {\n",
    "    'price': [0.5],\n",
    "    'host_line_cost': [0.06],\n",
    "    'host_capacity': [2000],\n",
    "    'potential_clients': [100], \n",
    "    'operating_expenses': [10],\n",
    "    'avg_client_allocation': [10, 20, 10, 20],\n",
    "    'platform_fee': [0.02],\n",
    "    'client_acquisition_rate_coeff': [0.013, 0.013, 0.02, 0.02]\n",
    "        \n",
    "}\n",
    "\n",
    "\n",
    "MONTE_CARLO_RUNS = 1\n",
    "\n",
    "#flexible way to create unique seeds for each monte carlo run\n",
    "seeds = [random.RandomState(i) for i in range(MONTE_CARLO_RUNS)] "
   ]
  },
  {
   "cell_type": "markdown",
   "id": "1bdd4b9f",
   "metadata": {},
   "source": [
    "# 2. Policy Functions"
   ]
  },
  {
   "cell_type": "code",
   "execution_count": null,
   "id": "af0485a7",
   "metadata": {},
   "outputs": [],
   "source": [
    "# Returns a dictionary\n",
    "# Never updates a state directly. Rather, it returns an Input/Signal which is used by a State Update function to update the state\n",
    "\n",
    "def p_client_acquisition(params, substep, state_history, previous_state):\n",
    "    \n",
    "    \n",
    "    hostCapacity = params['host_capacity']\n",
    "    clientAllocation = params['avg_client_allocation']\n",
    "    \n",
    "    maxClients = hostCapacity/clientAllocation\n",
    "    \n",
    "    if(maxClients > previous_state['clients']):\n",
    "    \n",
    "        # S-shaped growth representing client acquisition ('diffusion of innovation')\n",
    "        \n",
    "        x = previous_state['timestep']\n",
    "        mp = timeHorizon/2 # midpoint of sigmoid\n",
    "        #k = 0.015 # steepness of curve (default)\n",
    "        k = params['client_acquisition_rate_coeff']\n",
    "        height = params['potential_clients']\n",
    "\n",
    "        clients = height / (1+ math.e**(-k*(x-mp))) \n",
    "        clients = int(clients)\n",
    "        \n",
    "    else:\n",
    "        clients = maxClients\n",
    "    \n",
    "    return {'newClients': clients}\n",
    "\n",
    "\n",
    "# calculate daily demand \n",
    "def p_demand(params, substep, state_history, previous_state):\n",
    "    \n",
    "    demand = previous_state['clients'] * params['avg_client_allocation']\n",
    "    \n",
    "    return {'demand': demand}\n",
    "\n",
    "\n",
    "\n",
    "def p_revenue(params, substep, state_history, previous_state):\n",
    "    \n",
    "    revenue = previous_state['demand'] * params['price']\n",
    "    \n",
    "    return {'host_revenue': revenue}\n",
    "\n",
    "\n",
    "\n",
    "def p_expenses(params, substep, state_history, previous_state):\n",
    "    \n",
    "    platformCommission = previous_state['host_revenue'] * params['platform_fee']\n",
    "    \n",
    "    expenses = (params['host_line_cost']*params['host_capacity']) + params['operating_expenses'] - platformCommission\n",
    "    \n",
    "    return {'host_expenses': expenses}\n",
    "\n",
    "\n",
    "\n",
    "def p_profit(params, substep, state_history, previous_state):\n",
    "    \n",
    "    profit = previous_state['host_revenue'] - previous_state['host_expenses']\n",
    "    \n",
    "    return {'host_profit': profit}\n",
    "\n",
    "def p_cumulative_profit(params, substep, state_history, previous_state):\n",
    "    \n",
    "    cumulativeProfit = previous_state['cumulative_profit'] + previous_state['host_profit']\n",
    "    \n",
    "    return {'cumulative_profit': cumulativeProfit}\n",
    "\n",
    "\n"
   ]
  },
  {
   "cell_type": "markdown",
   "id": "3f017f5e",
   "metadata": {},
   "source": [
    "# 3. State Update Functions"
   ]
  },
  {
   "cell_type": "code",
   "execution_count": null,
   "id": "68d016bd",
   "metadata": {},
   "outputs": [],
   "source": [
    "# Update number of clients based on s-curve\n",
    "def s_clients(params, substep, state_history, previous_state, policy_input):\n",
    "    \n",
    "    x = policy_input['newClients'] \n",
    "    \n",
    "    return ('clients', x)\n",
    "\n",
    "\n",
    "\n",
    "# Update daily demand (i.e. bandwidth allocation)\n",
    "def s_demand(params, substep, state_history, previous_state, policy_input):\n",
    "    \n",
    "    x = policy_input['demand']\n",
    "    \n",
    "    return ('demand', x)\n",
    "\n",
    "\n",
    "\n",
    "# Update daily revenue\n",
    "def s_revenue(params, substep, state_history, previous_state, policy_input): \n",
    "    \n",
    "    x = policy_input['host_revenue']\n",
    "    \n",
    "    return ('host_revenue', x)\n",
    "\n",
    "\n",
    "\n",
    "# Update daily expenses\n",
    "def s_expenses(params, substep, state_history, previous_state, policy_input):  \n",
    "    \n",
    "    x = policy_input['host_expenses']\n",
    "    \n",
    "    return ('host_expenses', x)\n",
    "\n",
    "\n",
    "\n",
    "# Update daily profit\n",
    "def s_profit(params, substep, state_history, previous_state, policy_input):  \n",
    "    \n",
    "    x = policy_input['host_profit'];\n",
    "    \n",
    "    return ('host_profit', x)\n",
    "\n",
    "# Update cumulative profit\n",
    "def s_cumulative_profit(params, substep, state_history, previous_state, policy_input):  \n",
    "    \n",
    "    x = policy_input['cumulative_profit'];\n",
    "    \n",
    "    return ('cumulative_profit', x)\n",
    "\n",
    "\n",
    "\n",
    "\n"
   ]
  },
  {
   "cell_type": "markdown",
   "id": "4fbb200d",
   "metadata": {},
   "source": [
    "# 4. Partial State Update Blocks"
   ]
  },
  {
   "cell_type": "code",
   "execution_count": null,
   "id": "90782df3",
   "metadata": {},
   "outputs": [],
   "source": [
    "partial_state_update_blocks = [\n",
    "    {\n",
    "        'policies': {\n",
    "            'client_acquisition': p_client_acquisition,\n",
    "            'demand': p_demand,\n",
    "            'revenue': p_revenue,\n",
    "            'expenses': p_expenses,\n",
    "            'profit': p_profit,\n",
    "            'cumulative_profit': p_cumulative_profit\n",
    "        },\n",
    "        'variables': {\n",
    "            'active_clients': s_clients,\n",
    "            'demand': s_demand,\n",
    "            'revenue': s_revenue,\n",
    "            'expenses': s_expenses,\n",
    "            'profit': s_profit,\n",
    "            'cumulative_profit': s_cumulative_profit\n",
    "        }\n",
    "    }\n",
    "]"
   ]
  },
  {
   "cell_type": "markdown",
   "id": "46e24656",
   "metadata": {},
   "source": [
    "# 5. Simulation Execution"
   ]
  },
  {
   "cell_type": "code",
   "execution_count": null,
   "id": "35c4b33e",
   "metadata": {},
   "outputs": [],
   "source": [
    "from cadCAD import configs\n",
    "del configs[:] # Clear any prior configs\n",
    "\n",
    "\n",
    "sim_config = config_sim({\n",
    "    'N': 1,\n",
    "    'T': range(timeHorizon),\n",
    "    'M': system_params\n",
    "})\n",
    "\n",
    "\n",
    "experiment = Experiment()\n",
    "experiment.append_configs(\n",
    "    initial_state = initial_state,\n",
    "    partial_state_update_blocks = partial_state_update_blocks,\n",
    "    sim_configs = sim_config\n",
    ")\n",
    "\n",
    "\n",
    "\n",
    "exec_context = ExecutionContext()\n",
    "run = Executor(exec_context=exec_context, configs=configs)\n",
    "\n",
    "(system_events, tensor_field, sessions) = run.execute()"
   ]
  },
  {
   "cell_type": "markdown",
   "id": "ed34bd55",
   "metadata": {},
   "source": [
    "# 6. Simulation Output Preparation"
   ]
  },
  {
   "cell_type": "markdown",
   "id": "44be4113",
   "metadata": {},
   "source": [
    "### Clean substeps"
   ]
  },
  {
   "cell_type": "code",
   "execution_count": null,
   "id": "5e80b4f9",
   "metadata": {},
   "outputs": [],
   "source": [
    "\n",
    "\n",
    "# Convert system events dictionary into a pandas dataframe\n",
    "# Get system events and attribute index\n",
    "df = (pd.DataFrame(system_events)\n",
    "      .assign(Days=lambda df: df.timestep)\n",
    "      .query('timestep > 5')\n",
    "     )\n",
    "\n",
    "# Clean substeps\n",
    "first_ind = (df.substep == 0) & (df.timestep == 0)\n",
    "last_ind = df.substep == max(df.substep)\n",
    "inds_to_drop = (first_ind | last_ind)\n",
    "df = df.loc[inds_to_drop].drop(columns=['substep'])\n",
    "\n",
    "# Attribute parameters to each row\n",
    "df = df.assign(**configs[0].sim_config['M'])\n",
    "for i, (_, n_df) in enumerate(df.groupby(['simulation', 'subset', 'run'])):\n",
    "    df.loc[n_df.index] = n_df.assign(**configs[i].sim_config['M'])\n",
    "    "
   ]
  },
  {
   "cell_type": "markdown",
   "id": "4f408465",
   "metadata": {},
   "source": [
    "### Check initial data"
   ]
  },
  {
   "cell_type": "code",
   "execution_count": null,
   "id": "6d4619ac",
   "metadata": {
    "scrolled": false
   },
   "outputs": [],
   "source": [
    "simulation_result = pd.DataFrame(system_events)\n",
    "simulation_result.tail(10)"
   ]
  },
  {
   "cell_type": "markdown",
   "id": "38dfd5ce",
   "metadata": {},
   "source": [
    "### Convert data to JSON"
   ]
  },
  {
   "cell_type": "code",
   "execution_count": null,
   "id": "d7a7265e",
   "metadata": {},
   "outputs": [],
   "source": [
    "# See pandas reference for different formatting: https://pandas.pydata.org/pandas-docs/stable/reference/api/pandas.DataFrame.to_json.html\n",
    "\n",
    "sim_json = simulation_result.to_json(orient='records', lines=True)\n",
    "\n",
    "#sim_json"
   ]
  },
  {
   "cell_type": "markdown",
   "id": "bfc40cc8",
   "metadata": {},
   "source": [
    "# 7. Plot data"
   ]
  },
  {
   "cell_type": "markdown",
   "id": "3120bae2",
   "metadata": {},
   "source": [
    "### a) Client acquisition over time \n",
    "\n",
    "<p> 'subset' represents a simulation with a unique set of system parameters according to those defined in system_params.</p>"
   ]
  },
  {
   "cell_type": "code",
   "execution_count": null,
   "id": "c351d74a",
   "metadata": {},
   "outputs": [],
   "source": [
    "fig_df = df\n",
    "\n",
    "fig = px.line(\n",
    "    fig_df,\n",
    "    x='Days',\n",
    "    y='clients',\n",
    "    facet_row='subset',    \n",
    ")\n",
    "\n",
    "fig.show()"
   ]
  },
  {
   "cell_type": "code",
   "execution_count": null,
   "id": "6ddf7622",
   "metadata": {},
   "outputs": [],
   "source": [
    "#fig_df = df.query('avg_client_allocation == 10')\n",
    "fig_df = df.query('client_acquisition_rate_coeff == 0.013')\n",
    "\n",
    "\n",
    "fig = px.line(\n",
    "    fig_df,\n",
    "    x='Days',\n",
    "    y=['host_revenue', 'demand'],\n",
    "    height=500,\n",
    "    animation_frame='avg_client_allocation'\n",
    ")\n",
    "\n",
    "fig.show()"
   ]
  },
  {
   "cell_type": "code",
   "execution_count": null,
   "id": "550f9164",
   "metadata": {},
   "outputs": [],
   "source": [
    "fig_df = df.query('avg_client_allocation == 10')\n",
    "\n",
    "fig = px.line(\n",
    "    fig_df,\n",
    "    x='Days',\n",
    "    y=['host_revenue', 'host_expenses', 'host_profit'],\n",
    "    height=500,\n",
    "    animation_frame='client_acquisition_rate_coeff'\n",
    ")\n",
    "\n",
    "fig.show()"
   ]
  },
  {
   "cell_type": "code",
   "execution_count": null,
   "id": "901802c2",
   "metadata": {},
   "outputs": [],
   "source": [
    "fig_df = df.query('client_acquisition_rate_coeff == 0.020')\n",
    "\n",
    "\n",
    "fig = px.line(\n",
    "    fig_df,\n",
    "    x='timestep',\n",
    "    y='cumulative_profit',\n",
    "    height=500,\n",
    "    animation_frame='avg_client_allocation'\n",
    ")\n",
    "\n",
    "fig.show()"
   ]
  },
  {
   "cell_type": "markdown",
   "id": "51ef0ff5",
   "metadata": {},
   "source": [
    "## Get insights directly from System Events"
   ]
  },
  {
   "cell_type": "markdown",
   "id": "ffb2c49d",
   "metadata": {},
   "source": [
    "#### Given the subset, when does the host become profitable?"
   ]
  },
  {
   "cell_type": "code",
   "execution_count": null,
   "id": "2c7a1a4b",
   "metadata": {},
   "outputs": [],
   "source": [
    "for timestep in system_events:\n",
    "    if(timestep['subset'] == 1):\n",
    "        if(timestep['cumulative_profit'] > 0):\n",
    "            print('For subset #', timestep['subset'], 'the host becomes profitable after:\\n', timestep['timestep'], 'days.')\n",
    "            break\n",
    "        "
   ]
  },
  {
   "cell_type": "code",
   "execution_count": null,
   "id": "38c7c354",
   "metadata": {},
   "outputs": [],
   "source": []
  }
 ],
 "metadata": {
  "kernelspec": {
   "display_name": "Python 3",
   "language": "python",
   "name": "python3"
  },
  "language_info": {
   "codemirror_mode": {
    "name": "ipython",
    "version": 3
   },
   "file_extension": ".py",
   "mimetype": "text/x-python",
   "name": "python",
   "nbconvert_exporter": "python",
   "pygments_lexer": "ipython3",
   "version": "3.8.5"
  }
 },
 "nbformat": 4,
 "nbformat_minor": 5
}
